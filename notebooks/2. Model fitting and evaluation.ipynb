{
 "cells": [
  {
   "cell_type": "code",
   "execution_count": 1,
   "id": "aaa7664d",
   "metadata": {},
   "outputs": [
    {
     "name": "stdout",
     "output_type": "stream",
     "text": [
      "/Users/Conor.Mccabe/src/PolicePrediction\n"
     ]
    }
   ],
   "source": [
    "cd .."
   ]
  },
  {
   "cell_type": "code",
   "execution_count": 2,
   "id": "a1e126df",
   "metadata": {},
   "outputs": [],
   "source": [
    "import pandas as pd\n",
    "\n",
    "from sklearn.ensemble import RandomForestClassifier, GradientBoostingClassifier\n",
    "from sklearn.linear_model import LogisticRegression\n",
    "from sklearn.dummy import DummyClassifier\n",
    "\n",
    "from policeprediction.preprocessing import preprocess_df_and_key\n",
    "from policeprediction.feature_engineering import create_training_datasets\n",
    "from policeprediction.modelling import train_and_score_models"
   ]
  },
  {
   "cell_type": "code",
   "execution_count": 3,
   "id": "e97ec870",
   "metadata": {},
   "outputs": [
    {
     "name": "stderr",
     "output_type": "stream",
     "text": [
      "/Users/Conor.Mccabe/.pyenv/versions/3.7.11/envs/police/lib/python3.7/site-packages/IPython/core/interactiveshell.py:3553: DtypeWarning: Columns (0,2) have mixed types.Specify dtype option on import or set low_memory=False.\n",
      "  exec(code_obj, self.user_global_ns, self.user_ns)\n"
     ]
    }
   ],
   "source": [
    "key = pd.read_csv('data/roadsafetykey.csv')\n",
    "df = pd.read_csv('data/dft-road-casualty-statistics-accident-2020.csv')"
   ]
  },
  {
   "cell_type": "code",
   "execution_count": 4,
   "id": "37d251af",
   "metadata": {},
   "outputs": [
    {
     "name": "stderr",
     "output_type": "stream",
     "text": [
      "/Users/Conor.Mccabe/.pyenv/versions/3.7.11/envs/police/lib/python3.7/site-packages/pandas/core/indexing.py:1773: SettingWithCopyWarning: \n",
      "A value is trying to be set on a copy of a slice from a DataFrame.\n",
      "Try using .loc[row_indexer,col_indexer] = value instead\n",
      "\n",
      "See the caveats in the documentation: https://pandas.pydata.org/pandas-docs/stable/user_guide/indexing.html#returning-a-view-versus-a-copy\n",
      "  self._setitem_single_column(ilocs[0], value, pi)\n"
     ]
    }
   ],
   "source": [
    "df, key = preprocess_df_and_key(df, key)"
   ]
  },
  {
   "cell_type": "code",
   "execution_count": 5,
   "id": "c9fca88c",
   "metadata": {},
   "outputs": [],
   "source": [
    "train_df, test_df = create_training_datasets(df)"
   ]
  },
  {
   "cell_type": "code",
   "execution_count": 6,
   "id": "e152b9ad",
   "metadata": {},
   "outputs": [],
   "source": [
    "models = [LogisticRegression(penalty='none'),\n",
    "          RandomForestClassifier(),\n",
    "          GradientBoostingClassifier(),\n",
    "          DummyClassifier(strategy='prior')]\n",
    "\n",
    "features = ['transformed_hour_of_day',\n",
    "            'is_weekend',\n",
    "            'is_rural',\n",
    "            'is_severe',\n",
    "            'police_force_attendance_rate',\n",
    "            'speed_limit',\n",
    "            'number_of_vehicles']"
   ]
  },
  {
   "cell_type": "code",
   "execution_count": 7,
   "id": "d5f42a58",
   "metadata": {},
   "outputs": [
    {
     "data": {
      "text/html": [
       "<div>\n",
       "<style scoped>\n",
       "    .dataframe tbody tr th:only-of-type {\n",
       "        vertical-align: middle;\n",
       "    }\n",
       "\n",
       "    .dataframe tbody tr th {\n",
       "        vertical-align: top;\n",
       "    }\n",
       "\n",
       "    .dataframe thead th {\n",
       "        text-align: right;\n",
       "    }\n",
       "</style>\n",
       "<table border=\"1\" class=\"dataframe\">\n",
       "  <thead>\n",
       "    <tr style=\"text-align: right;\">\n",
       "      <th></th>\n",
       "      <th>Model</th>\n",
       "      <th>ROC AUC Score</th>\n",
       "      <th>F1 score</th>\n",
       "      <th>Accuracy score</th>\n",
       "    </tr>\n",
       "  </thead>\n",
       "  <tbody>\n",
       "    <tr>\n",
       "      <th>0</th>\n",
       "      <td>LogisticRegression(penalty='none')</td>\n",
       "      <td>0.696</td>\n",
       "      <td>0.812</td>\n",
       "      <td>0.702</td>\n",
       "    </tr>\n",
       "    <tr>\n",
       "      <th>1</th>\n",
       "      <td>RandomForestClassifier()</td>\n",
       "      <td>0.674</td>\n",
       "      <td>0.784</td>\n",
       "      <td>0.680</td>\n",
       "    </tr>\n",
       "    <tr>\n",
       "      <th>2</th>\n",
       "      <td>GradientBoostingClassifier()</td>\n",
       "      <td>0.724</td>\n",
       "      <td>0.815</td>\n",
       "      <td>0.708</td>\n",
       "    </tr>\n",
       "    <tr>\n",
       "      <th>3</th>\n",
       "      <td>DummyClassifier()</td>\n",
       "      <td>0.500</td>\n",
       "      <td>0.815</td>\n",
       "      <td>0.688</td>\n",
       "    </tr>\n",
       "  </tbody>\n",
       "</table>\n",
       "</div>"
      ],
      "text/plain": [
       "                                Model  ROC AUC Score  F1 score  Accuracy score\n",
       "0  LogisticRegression(penalty='none')          0.696     0.812           0.702\n",
       "1            RandomForestClassifier()          0.674     0.784           0.680\n",
       "2        GradientBoostingClassifier()          0.724     0.815           0.708\n",
       "3                   DummyClassifier()          0.500     0.815           0.688"
      ]
     },
     "execution_count": 7,
     "metadata": {},
     "output_type": "execute_result"
    }
   ],
   "source": [
    "train_and_score_models(train_df, test_df, features, models)"
   ]
  },
  {
   "cell_type": "code",
   "execution_count": null,
   "id": "1f795f6d",
   "metadata": {},
   "outputs": [],
   "source": []
  },
  {
   "cell_type": "code",
   "execution_count": null,
   "id": "4fffe0ab",
   "metadata": {},
   "outputs": [],
   "source": []
  }
 ],
 "metadata": {
  "kernelspec": {
   "display_name": "Python 3 (ipykernel)",
   "language": "python",
   "name": "python3"
  },
  "language_info": {
   "codemirror_mode": {
    "name": "ipython",
    "version": 3
   },
   "file_extension": ".py",
   "mimetype": "text/x-python",
   "name": "python",
   "nbconvert_exporter": "python",
   "pygments_lexer": "ipython3",
   "version": "3.7.11"
  }
 },
 "nbformat": 4,
 "nbformat_minor": 5
}
